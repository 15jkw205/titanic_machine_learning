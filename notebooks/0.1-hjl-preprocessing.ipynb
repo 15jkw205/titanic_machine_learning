{
 "cells": [
  {
   "cell_type": "code",
   "execution_count": 11,
   "metadata": {},
   "outputs": [],
   "source": [
    "import pandas as pd\n",
    "from sklearn.preprocessing import LabelEncoder\n",
    "from sklearn.preprocessing import StandardScaler\n",
    "from sklearn.ensemble import ExtraTreesClassifier\n",
    "from sklearn.metrics import accuracy_score\n",
    "from sklearn.impute import KNNImputer\n",
    "import numpy as np\n",
    "import matplotlib.pyplot as plt\n",
    "\n"
   ]
  },
  {
   "cell_type": "code",
   "execution_count": 12,
   "metadata": {},
   "outputs": [],
   "source": [
    "train_file_path = '../data/processed/train.csv'\n",
    "test_file_path = '../data/processed/test.csv'\n",
    "train_df = pd.read_csv(train_file_path)\n",
    "test_df = pd.read_csv(test_file_path)\n",
    "\n",
    "\n"
   ]
  },
  {
   "cell_type": "code",
   "execution_count": null,
   "metadata": {},
   "outputs": [],
   "source": [
    "print(train_df)"
   ]
  },
  {
   "cell_type": "code",
   "execution_count": null,
   "metadata": {},
   "outputs": [],
   "source": [
    "# remove unnessary features/columns (passID, Name, Ticket, Cabin, Survived)\n",
    "removed_columns_train_df = train_df.drop(columns=['PassengerId','Name','Ticket','Cabin'])\n",
    "removed_columns_test_df = test_df.drop(columns=['PassengerId','Name','Ticket','Cabin'])\n",
    "\n",
    "# remove unnessary features/columns from test.csv (passID, Name, Ticket, Cabin, Survived) \n",
    "\n",
    "# split data into the traget variable (survivied) and the independent variables\n",
    "y = removed_columns_train_df.iloc[:,1] #target_value_survived \n",
    "X = removed_columns_train_df.iloc[:, removed_columns_train_df.columns != 'Survived'] # independent_variables/target\n"
   ]
  },
  {
   "cell_type": "code",
   "execution_count": null,
   "metadata": {},
   "outputs": [],
   "source": [
    "#convert categorical columns to numerical form using sklearn label encoder\n",
    "#'Sex' column: male(1) female(0)\n",
    "\n",
    "X.loc[:,'Sex'] = LabelEncoder().fit_transform(X['Sex'])\n",
    "\n",
    "#fill missing values in 'Embarked' column with most common value\n",
    "#first determine mode of column \n",
    "most_common_embarked_value = X['Embarked'].mode()[0]\n",
    "print(f\"most common embarked value is: {most_common_embarked_value}\")\n",
    "\n",
    "#fill missing values with mode from previous step\n",
    "X.loc[:,'Embarked'] = X['Embarked'].fillna('S')\n",
    "\n",
    "#convert 'Embarked' categorical values to numerical form (0,1,2)\n",
    "X.loc[:,'Embarked'] = LabelEncoder().fit_transform(X['Embarked'])\n",
    "\n",
    "# find the range of age in data\n",
    "min_age = X['Age'].min()\n",
    "max_age = X['Age'].max()\n",
    "age_range = max_age - min_age\n",
    "\n",
    "#print(age_range)\n",
    "#print(independent_variables['Age'].describe())\n",
    "\n",
    "print(X['Age'].median())\n",
    "\n",
    "\n",
    "\n",
    "\n"
   ]
  },
  {
   "cell_type": "code",
   "execution_count": null,
   "metadata": {},
   "outputs": [],
   "source": [
    "test_model = ExtraTreesClassifier()\n",
    "test_model.fit(X,y)\n",
    "print(test_model.feature_importances_)\n",
    "feat_importances = pd.Series(test_model.feature_importances_, index=X.columns)\n",
    "feat_importances.nlargest(5).plot(kind='barh')\n",
    "plt.show()"
   ]
  },
  {
   "cell_type": "code",
   "execution_count": null,
   "metadata": {},
   "outputs": [],
   "source": [
    "#determine columns with missing values and the percentage of data that is missing\n",
    "missing_value_precentage = removed_columns_df.isnull().mean() * 100\n",
    "missing_value_precentage"
   ]
  },
  {
   "cell_type": "code",
   "execution_count": 6,
   "metadata": {},
   "outputs": [],
   "source": [
    "# Determine how to handle missing age values (19.965% missing)\n",
    "# make copys of removed_columns_df to test missing values\n",
    "\n",
    "# TODO get distribution of ages after running the impuitations\n",
    "\n",
    "deleted_rows_df = removed_columns_df.copy()\n",
    "mean_imputed_df = removed_columns_df.copy()\n",
    "median_imputed_df = removed_columns_df.copy()\n",
    "mode_imputed_df = removed_columns_df.copy()\n",
    "knn_imputed_df = removed_columns_df.copy()\n",
    "\n",
    "#delete rows\n",
    "deleted_rows_df = removed_columns_df.dropna(subset=['Age'])\n",
    "\n",
    "#median\n",
    "median_imputed_df['Age'] = removed_columns_df['Age'].fillna(removed_columns_df['Age'].median())\n",
    "\n",
    "#mean\n",
    "mean_imputed_df['Age'] = mean_imputed_df['Age'].fillna(mean_imputed_df['Age'].mean())\n",
    "\n",
    "#mode\n",
    "mode_imputed_df['Age'] = mode_imputed_df['Age'].fillna(mode_imputed_df['Age'].mode())\n",
    "\n",
    "#KNN\n",
    "KNNImputer = KNNImputer(n_neighbors=5)\n",
    "knn_imputed_df[['Age']] = KNNImputer.fit_transform(knn_imputed_df[['Age']])\n",
    "\n",
    "\n"
   ]
  },
  {
   "cell_type": "code",
   "execution_count": null,
   "metadata": {},
   "outputs": [],
   "source": [
    "# calculate frequency of each age in each imputation\n",
    "\n",
    "#original df\n",
    "original_age_counts = removed_columns_df['Age'].describe()\n",
    "\n",
    "#deleted age df\n",
    "deleted_age_counts = deleted_rows_df['Age'].describe()\n",
    "\n",
    "#median df\n",
    "median_age_counts = median_imputed_df['Age'].describe()\n",
    "\n",
    "#mean df\n",
    "mean_age_counts = mean_imputed_df['Age'].describe()\n",
    "\n",
    "#mode df\n",
    "mode_age_counts = mode_imputed_df['Age'].describe()\n",
    "\n",
    "#KNN df\n",
    "KNN_age_counts = knn_imputed_df['Age'].describe()\n",
    "\n",
    "print(\"Original age distribution(w/ missing values)\")\n",
    "print(original_age_counts)\n",
    "\n",
    "print(\"\\ndeleted age distribution\")\n",
    "print(deleted_age_counts)\n",
    "\n",
    "print(\"\\nmedian age distribution\")\n",
    "print(median_age_counts)\n",
    "\n",
    "print(\"\\nmean age distribution\")\n",
    "print(mean_age_counts)\n",
    "\n",
    "print(\"\\nmode age distribution\")\n",
    "print(mode_age_counts)\n",
    "\n",
    "print(\"\\nKNN age distribution\")\n",
    "print(KNN_age_counts)"
   ]
  },
  {
   "cell_type": "code",
   "execution_count": null,
   "metadata": {},
   "outputs": [],
   "source": []
  }
 ],
 "metadata": {
  "kernelspec": {
   "display_name": "Python 3",
   "language": "python",
   "name": "python3"
  },
  "language_info": {
   "codemirror_mode": {
    "name": "ipython",
    "version": 3
   },
   "file_extension": ".py",
   "mimetype": "text/x-python",
   "name": "python",
   "nbconvert_exporter": "python",
   "pygments_lexer": "ipython3",
   "version": "3.12.4"
  }
 },
 "nbformat": 4,
 "nbformat_minor": 2
}
